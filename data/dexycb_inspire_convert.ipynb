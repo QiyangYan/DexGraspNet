{
 "cells": [
  {
   "cell_type": "code",
   "execution_count": 68,
   "id": "865404e0",
   "metadata": {},
   "outputs": [],
   "source": [
    "translation_names = ['WRJTx', 'WRJTy', 'WRJTz']\n",
    "rot_names = ['WRJRx', 'WRJRy', 'WRJRz']\n",
    "joint_names = [\n",
    "    \"R_thumb_MCP_joint1\",\n",
    "    \"R_thumb_MCP_joint2\",\n",
    "    \"R_thumb_PIP_joint\",\n",
    "    \"R_thumb_DIP_joint\",\n",
    "    \"R_index_MCP_joint\",\n",
    "    \"R_index_DIP_joint\",\n",
    "    \"R_middle_MCP_joint\",\n",
    "    \"R_middle_DIP_joint\",\n",
    "    \"R_ring_MCP_joint\",\n",
    "    \"R_ring_DIP_joint\",\n",
    "    \"R_pinky_MCP_joint\",\n",
    "    \"R_pinky_DIP_joint\"\n",
    "]\n",
    "\n",
    "thumb = {\n",
    "    \"R_thumb_MCP_joint1\",\n",
    "    \"R_thumb_MCP_joint2\",\n",
    "}"
   ]
  },
  {
   "cell_type": "code",
   "execution_count": null,
   "id": "a7f488a0",
   "metadata": {},
   "outputs": [
    {
     "data": {
      "text/plain": [
       "dict_keys([210])"
      ]
     },
     "execution_count": 69,
     "metadata": {},
     "output_type": "execute_result"
    }
   ],
   "source": [
    "import numpy as np\n",
    "from collections import defaultdict\n",
    "import scipy.spatial.transform as transform\n",
    "import numpy as np\n",
    "from scipy.spatial.transform import Rotation as R\n",
    "\n",
    "grasp_poses =np.load('/home/ubuntu/Documents/DexYCB/grasp_poses_d1_5_v0.npy', allow_pickle=True).item()\n",
    "# grasp_poses =np.load('/home/ubuntu/Documents/DexYCB/grasp_poses_opt.npy', allow_pickle=True).item()\n",
    "grasp_poses.keys()\n",
    "# obj_idx = 3"
   ]
  },
  {
   "cell_type": "code",
   "execution_count": 70,
   "id": "531594d9",
   "metadata": {},
   "outputs": [],
   "source": [
    "# grasp_poses[obj_idx].keys()\n"
   ]
  },
  {
   "cell_type": "code",
   "execution_count": 71,
   "id": "763b937d",
   "metadata": {},
   "outputs": [],
   "source": [
    "# grasp_poses[obj_idx]['target_object_name']"
   ]
  },
  {
   "cell_type": "code",
   "execution_count": 72,
   "id": "a98395cb",
   "metadata": {},
   "outputs": [],
   "source": [
    "# grasp_poses[obj_idx]['robot_pose'][0]"
   ]
  },
  {
   "cell_type": "code",
   "execution_count": 73,
   "id": "c17fb87a",
   "metadata": {},
   "outputs": [],
   "source": [
    "import numpy as np\n",
    "from scipy.spatial.transform import Rotation as R\n",
    "\n",
    "def euler_to_rotation_matrix(euler_angles):\n",
    "    rotation = R.from_euler('XYZ', euler_angles, degrees=False)\n",
    "    return rotation.as_matrix()\n",
    "\n",
    "\n",
    "def quaternion_to_rotation_matrix(quaternion):\n",
    "    rotation = R.from_quat(quaternion)\n",
    "    return rotation.as_matrix()\n",
    "\n",
    "\n",
    "def object_pose_to_matrix(position, quaternion):\n",
    "    \"\"\"\n",
    "    Converts object pose (position and quaternion) to a 4x4 transformation matrix.\n",
    "    \n",
    "    Parameters:\n",
    "    - position: (3,) numpy.ndarray, position [x, y, z]\n",
    "    - quaternion: (4,) numpy.ndarray, [x, y, z, w] quaternion\n",
    "    \n",
    "    Returns:\n",
    "    - transformation_matrix: (4, 4) numpy.ndarray, corresponding transformation matrix\n",
    "    \"\"\"\n",
    "    quaternion = np.concatenate([quaternion[1:4], quaternion[0:1]]) # wxyz-> xyzw\n",
    "    rotation_matrix = quaternion_to_rotation_matrix(quaternion)\n",
    "    transformation_matrix = np.eye(4)\n",
    "    transformation_matrix[:3, :3] = rotation_matrix\n",
    "    transformation_matrix[:3, 3] = position\n",
    "    return transformation_matrix\n",
    "\n",
    "\n",
    "def hand_pose_to_matrix(position, quaternion):\n",
    "    \"\"\"\n",
    "    Converts object pose (position and quaternion) to a 4x4 transformation matrix.\n",
    "    \n",
    "    Parameters:\n",
    "    - position: (3,) numpy.ndarray, position [x, y, z]\n",
    "    - quaternion: (4,) numpy.ndarray, [x, y, z, w] quaternion\n",
    "    \n",
    "    Returns:\n",
    "    - transformation_matrix: (4, 4) numpy.ndarray, corresponding transformation matrix\n",
    "    \"\"\"\n",
    "    rotation_matrix = quaternion_to_rotation_matrix(quaternion)\n",
    "    transformation_matrix = np.eye(4)\n",
    "    transformation_matrix[:3, :3] = rotation_matrix\n",
    "    transformation_matrix[:3, 3] = position\n",
    "    return transformation_matrix"
   ]
  },
  {
   "cell_type": "code",
   "execution_count": 74,
   "id": "bb3ebb79",
   "metadata": {},
   "outputs": [],
   "source": [
    "def get_obj_centric_pose_for_opt(grasp_poses, obj_idx):\n",
    "    ''' Obj pose '''\n",
    "    obj_pos = grasp_poses[obj_idx]['target_pose_world'][0].p\n",
    "    obj_quat = grasp_poses[obj_idx]['target_pose_world'][0].q\n",
    "    object_pose = object_pose_to_matrix(obj_pos, obj_quat)\n",
    "    # print(f\"Object Position: {obj_pos}, Object Quaternion: {obj_quat}\")\n",
    "    # print(f\"Object Pose: {object_pose}\")\n",
    "\n",
    "    ''' Hand pose '''\n",
    "    hand_pos = grasp_poses[obj_idx]['robot_pose'][0][:3]\n",
    "    hand_euler = grasp_poses[obj_idx]['robot_pose'][0][3:6]\n",
    "    hand_quat = transform.Rotation.from_euler('XYZ', hand_euler, degrees=False).as_quat()\n",
    "    hand_6drot = transform.Rotation.from_euler('XYZ', hand_euler, degrees=False).as_matrix()\n",
    "    hand_6drot = hand_6drot[:, :2].T.ravel().tolist()\n",
    "    # print(f\"Hand Position: {hand_pos}, Hand Quaternion: {hand_quat}\")\n",
    "    # print(f\"Hand 6drot: {hand_6drot}\")\n",
    "    # print(grasp_poses[obj_idx]['robot_pose'][0])\n",
    "\n",
    "    ''' object-centric '''\n",
    "    W_T_O = object_pose\n",
    "    W_T_H = hand_pose_to_matrix(hand_pos, hand_quat)\n",
    "\n",
    "    O_T_H = np.linalg.inv(W_T_O) @ W_T_H\n",
    "    print(O_T_H)\n",
    "    t_oh  = O_T_H[:3, 3]\n",
    "    R_oh  = O_T_H[:3, :3]\n",
    "\n",
    "    euler_oh = R.from_matrix(R_oh).as_euler('XYZ', degrees=False)\n",
    "    print(f\"Object-Centric Hand Euler (XYZ, rad): {euler_oh}\")\n",
    "    print(f\"Object-Centric Hand Position: {t_oh}\")\n",
    "\n",
    "    hand_6drot = R_oh\n",
    "    hand_6drot = hand_6drot[:, :2].T.ravel().tolist()\n",
    "    hand_pos = t_oh\n",
    "    hand_euler = euler_oh\n",
    "\n",
    "    return hand_pos, hand_euler, object_pose, hand_6drot"
   ]
  },
  {
   "cell_type": "code",
   "execution_count": 75,
   "id": "9fb6a82f",
   "metadata": {},
   "outputs": [
    {
     "data": {
      "text/plain": [
       "{210: {'target_object_name': '037_scissors',\n",
       "  'target_object_idx': 17,\n",
       "  'target_pose_camera': [array([ 0.29365462,  0.20150022, -0.2578915 ,  0.89814067,  0.10229845,\n",
       "          -0.21143647,  0.9633028 ], dtype=float32)],\n",
       "  'target_pose_world': [Pose([0.486657, 0.148532, 0.275011], [0.476852, -0.0677228, -0.686595, 0.544622])],\n",
       "  'camera_pose': Pose([1.07722, 0.827201, 0.69187], [0.129591, -0.26818, -0.85521, 0.424148]),\n",
       "  'robot_names': [<RobotName.inspire: 6>],\n",
       "  'robot_pose': [array([ 0.56702411,  0.30217066,  0.20630386,  3.7600112 , -2.37079048,\n",
       "           1.52098   ,  0.94451845,  0.97389585,  1.10423684,  1.23822463,\n",
       "           1.23903787,  0.32244459,  0.99076544,  1.12944696,  1.27200862,\n",
       "           1.2728739 ,  0.43014108,  0.21507054])],\n",
       "  'hand_type': <HandType.right: 1>}}"
      ]
     },
     "execution_count": 75,
     "metadata": {},
     "output_type": "execute_result"
    }
   ],
   "source": [
    "grasp_poses"
   ]
  },
  {
   "cell_type": "code",
   "execution_count": 76,
   "id": "1ecd9928",
   "metadata": {},
   "outputs": [
    {
     "name": "stdout",
     "output_type": "stream",
     "text": [
      "[[-0.81976489 -0.34329969  0.45840032  0.01108673]\n",
      " [ 0.19306885 -0.91922505 -0.34314681  0.08263907]\n",
      " [ 0.53917525 -0.19279689  0.81982889 -0.16683   ]\n",
      " [ 0.          0.          0.          1.        ]]\n",
      "Object-Centric Hand Euler (XYZ, rad): [0.39640249 0.47619443 2.74500368]\n",
      "Object-Centric Hand Position: [ 0.01108673  0.08263907 -0.16683   ]\n"
     ]
    },
    {
     "data": {
      "text/plain": [
       "[defaultdict(dict,\n",
       "             {'qpos': defaultdict(float,\n",
       "                          {'R_thumb_MCP_joint1': 0.9445184469223022,\n",
       "                           'R_thumb_MCP_joint2': 0.3224445879459381,\n",
       "                           'R_thumb_PIP_joint': 0.43014108031988146,\n",
       "                           'R_thumb_DIP_joint': 0.21507054015994073,\n",
       "                           'R_index_MCP_joint': 0.9738958477973938,\n",
       "                           'R_index_DIP_joint': 0.9907654430979491,\n",
       "                           'R_middle_MCP_joint': 1.1042368412017822,\n",
       "                           'R_middle_DIP_joint': 1.1294469566702843,\n",
       "                           'R_ring_MCP_joint': 1.2382246255874634,\n",
       "                           'R_ring_DIP_joint': 1.2720086193788052,\n",
       "                           'R_pinky_MCP_joint': 1.2390378713607788,\n",
       "                           'R_pinky_DIP_joint': 1.272873904749155,\n",
       "                           'WRJTx': 0.011086725559808506,\n",
       "                           'WRJTy': 0.08263906642442853,\n",
       "                           'WRJTz': -0.16683000464885145,\n",
       "                           'WRJRx': 0.39640249322141985,\n",
       "                           'WRJRy': 0.47619443396722305,\n",
       "                           'WRJRz': 2.74500368272386}),\n",
       "              'object_code': '037_scissors',\n",
       "              'object_pose': array([[-0.53605084, -0.42641239, -0.7285753 ,  0.48665726],\n",
       "                     [ 0.61240488,  0.39760093, -0.68328162,  0.14853185],\n",
       "                     [ 0.58104197, -0.81245675,  0.04800272,  0.27501097],\n",
       "                     [ 0.        ,  0.        ,  0.        ,  1.        ]]),\n",
       "              'hand_rot6d': [-0.8197648866508439,\n",
       "               0.19306884635986266,\n",
       "               0.5391752508967753,\n",
       "               -0.3432996872866125,\n",
       "               -0.9192250458699258,\n",
       "               -0.19279688730461206],\n",
       "              'idx': 210})]"
      ]
     },
     "execution_count": 76,
     "metadata": {},
     "output_type": "execute_result"
    }
   ],
   "source": [
    "ycb_optimize_dataset_list = []\n",
    "\n",
    "for obj_idx in grasp_poses.keys():\n",
    "    hand_pos, hand_euler, object_pose, hand_6drot = get_obj_centric_pose_for_opt(grasp_poses, obj_idx)\n",
    "    robot_pose_joint = grasp_poses[obj_idx]['robot_pose'][0]\n",
    "    map_idx = [0, 5, 10, 11, 1, 6, 2, 7, 3, 8, 4, 9]\n",
    "    mapped_joint = [robot_pose_joint[6:][i] for i in map_idx]\n",
    "\n",
    "    robot_joint_dict = defaultdict(float)\n",
    "    for i, joint_name in enumerate(joint_names):\n",
    "        robot_joint_dict[joint_name] = mapped_joint[i]\n",
    "    for i, name in enumerate(translation_names):\n",
    "        robot_joint_dict[name] = hand_pos[i]\n",
    "    for i, name in enumerate(rot_names):\n",
    "        robot_joint_dict[name] = hand_euler[i]\n",
    "\n",
    "    ycb_optimize_dataset = defaultdict(dict)\n",
    "    ycb_optimize_dataset['qpos'] = robot_joint_dict\n",
    "    ycb_optimize_dataset['object_code'] = grasp_poses[obj_idx]['target_object_name']\n",
    "    ycb_optimize_dataset['object_pose'] = object_pose\n",
    "    ycb_optimize_dataset['hand_rot6d'] = hand_6drot\n",
    "    ycb_optimize_dataset['idx'] = obj_idx\n",
    "\n",
    "    ycb_optimize_dataset_list.append(ycb_optimize_dataset)\n",
    "\n",
    "ycb_optimize_dataset_list"
   ]
  },
  {
   "cell_type": "code",
   "execution_count": null,
   "id": "d2c54568",
   "metadata": {},
   "outputs": [],
   "source": []
  },
  {
   "cell_type": "code",
   "execution_count": 77,
   "id": "560e6efb",
   "metadata": {},
   "outputs": [
    {
     "data": {
      "text/plain": [
       "[defaultdict(dict,\n",
       "             {'qpos': defaultdict(float,\n",
       "                          {'R_thumb_MCP_joint1': 0.9445184469223022,\n",
       "                           'R_thumb_MCP_joint2': 0.3224445879459381,\n",
       "                           'R_thumb_PIP_joint': 0.43014108031988146,\n",
       "                           'R_thumb_DIP_joint': 0.21507054015994073,\n",
       "                           'R_index_MCP_joint': 0.9738958477973938,\n",
       "                           'R_index_DIP_joint': 0.9907654430979491,\n",
       "                           'R_middle_MCP_joint': 1.1042368412017822,\n",
       "                           'R_middle_DIP_joint': 1.1294469566702843,\n",
       "                           'R_ring_MCP_joint': 1.2382246255874634,\n",
       "                           'R_ring_DIP_joint': 1.2720086193788052,\n",
       "                           'R_pinky_MCP_joint': 1.2390378713607788,\n",
       "                           'R_pinky_DIP_joint': 1.272873904749155,\n",
       "                           'WRJTx': 0.011086725559808506,\n",
       "                           'WRJTy': 0.08263906642442853,\n",
       "                           'WRJTz': -0.16683000464885145,\n",
       "                           'WRJRx': 0.39640249322141985,\n",
       "                           'WRJRy': 0.47619443396722305,\n",
       "                           'WRJRz': 2.74500368272386}),\n",
       "              'object_code': '037_scissors',\n",
       "              'object_pose': array([[-0.53605084, -0.42641239, -0.7285753 ,  0.48665726],\n",
       "                     [ 0.61240488,  0.39760093, -0.68328162,  0.14853185],\n",
       "                     [ 0.58104197, -0.81245675,  0.04800272,  0.27501097],\n",
       "                     [ 0.        ,  0.        ,  0.        ,  1.        ]]),\n",
       "              'hand_rot6d': [-0.8197648866508439,\n",
       "               0.19306884635986266,\n",
       "               0.5391752508967753,\n",
       "               -0.3432996872866125,\n",
       "               -0.9192250458699258,\n",
       "               -0.19279688730461206],\n",
       "              'idx': 210})]"
      ]
     },
     "execution_count": 77,
     "metadata": {},
     "output_type": "execute_result"
    }
   ],
   "source": [
    "ycb_optimize_dataset_list"
   ]
  },
  {
   "cell_type": "code",
   "execution_count": 78,
   "id": "f3f9f6dc",
   "metadata": {},
   "outputs": [],
   "source": [
    "# store dict in a specified path as npy file\n",
    "import os\n",
    "import json\n",
    "output_path = '/home/ubuntu/Documents/DexGraspNet/data/dataset/dexycb_robot_joint_dict_210_test.npy'\n",
    "if not os.path.exists(os.path.dirname(output_path)):\n",
    "    os.makedirs(os.path.dirname(output_path))\n",
    "np.save(output_path, ycb_optimize_dataset_list, allow_pickle=True)"
   ]
  }
 ],
 "metadata": {
  "kernelspec": {
   "display_name": "dexfungrasp",
   "language": "python",
   "name": "python3"
  },
  "language_info": {
   "codemirror_mode": {
    "name": "ipython",
    "version": 3
   },
   "file_extension": ".py",
   "mimetype": "text/x-python",
   "name": "python",
   "nbconvert_exporter": "python",
   "pygments_lexer": "ipython3",
   "version": "3.8.20"
  }
 },
 "nbformat": 4,
 "nbformat_minor": 5
}
